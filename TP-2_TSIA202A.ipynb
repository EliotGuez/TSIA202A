{
 "cells": [
  {
   "cell_type": "markdown",
   "metadata": {},
   "source": [
    "# TSIA202a - Second Practice Session : Spectral density estimation and periodogram\n",
    "The goal of this second session is to provide a power spectral density estimator of a real, zero-mean, weakly stationary process $X_t$. We suppose that we have access to $n$ observations and we will use the FFT algorithm (that implements the DFT) using `numpy.fft.fft`.\n",
    "Recall (from the course) that the periodogram of the observations $X_0, \\dots, X_{n-1}$ can be given as:\n",
    "$$\n",
    "I_n(\\lambda) = \\frac{1}{2\\pi n}|\\sum_{k=0}^{n-1} X_k e^{i\\lambda k}|^2\n",
    "$$\n",
    "\n",
    "Moreover, the Hertglotz theorem provides a relation between the empirical autocovariance $\\hat{\\gamma}_n$ and the periodogram $I_n$:\n",
    "$$\n",
    "\\hat{\\gamma}_n(k) = \\int_{0}^{2\\pi}e^{i\\lambda k}I_n({\\lambda})d\\lambda\n",
    "$$\n",
    "\n",
    "1. For a given $m \\geq n$  we denote also the DFT as:\n",
    "$$\n",
    "DFT(X,m)(k) = \\sum_{h=0}^{n-1}X_he^{-2i\\pi\\frac{kh}{m}}\n",
    "$$\n",
    "Show the following relation: \n",
    "$$I_n(\\frac{2\\pi k}{m}) = \\frac{1}{2\\pi n} |DFT(X,m)(k)|^2$$\n",
    "2. provide a script that compute those $I_n(\\frac{2\\pi k}{m})$ for the time series mentioned in the first practice session\n",
    "3. Show that $I_n(\\lambda) = \\frac{1}{2\\pi} \\sum_{k=0}^{n-1} \\hat{\\gamma}_n(k)e^{-i\\lambda k}$\n",
    "4. How to choose $m$ in order to get a simple relation between $\\hat{\\gamma}_n(k)$ and $I_n(\\frac{2\\pi k}{m})$ ? At the end, given a specific $\\tilde{m}$ show that:\n",
    "$$\n",
    "\\hat{\\gamma}_n(k) = \\frac{1}{n} IDFT\\left(\\left|DFT(X, \\tilde{m})\\right|^2, \\tilde{m}\\right)(k)\n",
    "$$ Try this estimator on the autocovariance of previous time series of the first session.\n",
    "\n",
    "5. In the case of white noise, estimate the variance of the periodogram for several values of $n$ and discuss about it.\n",
    "\n",
    "\n"
   ]
  },
  {
   "cell_type": "code",
   "execution_count": null,
   "metadata": {},
   "outputs": [],
   "source": []
  },
  {
   "cell_type": "markdown",
   "metadata": {},
   "source": []
  },
  {
   "cell_type": "markdown",
   "metadata": {},
   "source": [
    "### Question 1"
   ]
  },
  {
   "cell_type": "markdown",
   "metadata": {},
   "source": [
    "\\begin{align*}\n",
    "\\frac{1}{2\\pi n} |DFT(X,m)(k)|^2 &= \\frac{1}{2\\pi n} |DFT(X,m)(k)|^2\\\\\n",
    "&= \\frac{1}{2\\pi n} |\\sum_{h=0}^{n-1}X_he^{-2i\\pi\\frac{kh}{m}}|^2 \\\\\n",
    "&= I_n(\\frac{2\\pi k}{m}) \n",
    "\n",
    "\n",
    "\\end{align*}"
   ]
  },
  {
   "cell_type": "markdown",
   "metadata": {},
   "source": [
    "### Question 2"
   ]
  },
  {
   "cell_type": "code",
   "execution_count": 8,
   "metadata": {},
   "outputs": [],
   "source": [
    "import numpy as np\n",
    "import matplotlib.pyplot as plt"
   ]
  },
  {
   "cell_type": "code",
   "execution_count": 9,
   "metadata": {},
   "outputs": [],
   "source": [
    "wn= 3 # sigma \n",
    "t=100\n",
    "Z= np.random.normal(0, wn, t)"
   ]
  },
  {
   "cell_type": "code",
   "execution_count": 10,
   "metadata": {},
   "outputs": [],
   "source": [
    "def In2(X, m):\n",
    "    return 1/(2*np.pi*len(X))*np.abs(np.fft.fft(X,m))**2\n"
   ]
  },
  {
   "cell_type": "code",
   "execution_count": 11,
   "metadata": {},
   "outputs": [
    {
     "data": {
      "text/plain": [
       "array([4.51508453, 2.13290226, 0.87259366, 1.11324248, 0.01101163,\n",
       "       0.34376469, 0.1349098 , 0.26158956, 1.11555004, 0.28496842,\n",
       "       1.54093572, 0.34785358, 2.58023527, 2.74616076, 3.37009898,\n",
       "       2.03366698, 4.68996979, 0.72332441, 1.90640692, 0.8573554 ,\n",
       "       0.68422768, 0.36801765, 3.53798719, 0.28929877, 3.72652475,\n",
       "       0.82377451, 1.0037169 , 3.41438112, 2.53432159, 1.15697973,\n",
       "       0.92590327, 0.3467642 , 0.36507983, 0.79101813, 0.68012106,\n",
       "       0.39917579, 1.15510599, 6.25232425, 2.04363458, 0.21030133,\n",
       "       3.05761077, 2.42189153, 0.45830167, 3.36808708, 1.16594407,\n",
       "       0.32154135, 1.3182193 , 2.46157582, 1.63600968, 0.99149681,\n",
       "       0.22255576, 2.29081087, 1.02022014, 2.96299908, 1.7457458 ,\n",
       "       0.42047367, 6.54892014, 0.06695744, 1.32371195, 0.05635492,\n",
       "       0.27506151, 0.05635492, 1.32371195, 0.06695744, 6.54892014,\n",
       "       0.42047367, 1.7457458 , 2.96299908, 1.02022014, 2.29081087,\n",
       "       0.22255576, 0.99149681, 1.63600968, 2.46157582, 1.3182193 ,\n",
       "       0.32154135, 1.16594407, 3.36808708, 0.45830167, 2.42189153,\n",
       "       3.05761077, 0.21030133, 2.04363458, 6.25232425, 1.15510599,\n",
       "       0.39917579, 0.68012106, 0.79101813, 0.36507983, 0.3467642 ,\n",
       "       0.92590327, 1.15697973, 2.53432159, 3.41438112, 1.0037169 ,\n",
       "       0.82377451, 3.72652475, 0.28929877, 3.53798719, 0.36801765,\n",
       "       0.68422768, 0.8573554 , 1.90640692, 0.72332441, 4.68996979,\n",
       "       2.03366698, 3.37009898, 2.74616076, 2.58023527, 0.34785358,\n",
       "       1.54093572, 0.28496842, 1.11555004, 0.26158956, 0.1349098 ,\n",
       "       0.34376469, 0.01101163, 1.11324248, 0.87259366, 2.13290226])"
      ]
     },
     "execution_count": 11,
     "metadata": {},
     "output_type": "execute_result"
    }
   ],
   "source": [
    "In2(Z,120)"
   ]
  },
  {
   "cell_type": "markdown",
   "metadata": {},
   "source": [
    "### __Question 3__"
   ]
  },
  {
   "cell_type": "markdown",
   "metadata": {},
   "source": [
    "First, let's substitute the expression for $I_n(\\lambda)$ into the equation for $\\hat{\\gamma}_n(k)$:\n",
    "\n",
    "\\begin{align}\n",
    "\\hat{\\gamma}_n(k) = \\int_{0}^{2\\pi} e^{i\\lambda k} \\left( \\frac{1}{2\\pi n} \\left| \\sum_{m=0}^{n-1} X_m e^{i\\lambda m} \\right|^2 \\right) d\\lambda \\\\\n",
    "\\hat{\\gamma}_n(k) = \\frac{1}{2\\pi n}\\int_{0}^{2\\pi} e^{i\\lambda k} \\left| \\sum_{m=0}^{n-1} X_m e^{i\\lambda m} \\right|^2 d\\lambda \\\\\n",
    "\\end{align}\n",
    "Which is equal by using the conjugate \n",
    "\\begin{align}\n",
    "\\hat{\\gamma}_n(k) =\\frac{1}{2\\pi n}*\\int_{0}^{2\\pi} e^{i\\lambda k} \\left( \\sum_{l=0}^{n-1} X_l e^{i\\lambda l} \\right) \\left( \\sum_{m=0}^{n-1} X_m e^{i\\lambda m} \\right)^* d\\lambda\\\\ \n",
    "\\hat{\\gamma}_n(k) =\\frac{1}{2\\pi n}*\\int_{0}^{2\\pi} e^{i\\lambda k} \\left( \\sum_{l=0}^{n-1} X_l e^{i\\lambda l} \\right) \\left( \\sum_{m=0}^{n-1} X_m e^{-i\\lambda m} \\right) d\\lambda\\\\\n",
    "\\hat{\\gamma}_n(k) =\\frac{1}{2\\pi n}*\\sum_{l=0}^{n-1} \\sum_{m=0}^{n-1} X_l X_m   \\int_{0}^{2\\pi} e^{i\\lambda (k+l-m)}   d\\lambda\\\\\n",
    "\\end{align}\n",
    "\n",
    "And we have : $$ \\int_{0}^{2\\pi} e^{i\\lambda (k+l-m)} \\not = 0 \\quad \\text{if and only if } \\; k+l-m = 0 \\\\ $$\n",
    "$$\\int_{0}^{2\\pi} e^{i\\lambda (k+l-m)} =2\\pi \\quad \\text{if } \\; k+l-m =0 \\\\ $$\n",
    "\n",
    "Conditions on k implies that k must be below n for the previous equation to not be equal 0  \n",
    "  \n",
    "\n",
    "Therefore :  \n",
    "\\begin{align}\n",
    "\\hat{\\gamma}_n(k) =\\frac{1}{n} \\sum_{l=0}^{n-1} \\sum_{m=0}^{n-1} X_l X_m *\\delta_{k+l-m}\\\\\n",
    "\\hat{\\gamma}_n(k) =\\frac{1}{n} \\sum_{m=0}^{n-1} X_{m-k} X_m \\\\\n",
    "\\end{align}\n",
    "\n",
    "So, \n",
    "\\begin{align*}\n",
    "\\frac{1}{2\\pi} \\sum_{k=0}^{n-1} \\hat{\\gamma}_n(k)e^{-i\\lambda k} &= \\frac{1}{2\\pi n} \\sum_{k=0}^{n-1}\\sum_{m=0}^{n-1} X_{m-k} X_m e^{-i\\lambda k}\\\\\n",
    "&= \\frac{1}{2\\pi n}  \\sum_{k=0}^{n-1}\\sum_{m=0}^{n-1} X_{m-k} X_m e^{i\\lambda(m-k)} e^{i\\lambda m}\\\\\n",
    "&= \\frac{1}{2\\pi n}  \\sum_{m=0}^{n-1}\\sum_{k=0}^{m} (X_{m-k}  e^{i\\lambda(m-k)}) X_m e^{i\\lambda m}\\\\\n",
    "&= \\frac{1}{2\\pi n}  \\sum_{0\\leq k \\leq m\\leq n-1}(X_{k}  e^{i\\lambda k}) X_m e^{i\\lambda m}\\\\\n",
    "\\end{align*}"
   ]
  },
  {
   "cell_type": "code",
   "execution_count": null,
   "metadata": {},
   "outputs": [],
   "source": []
  },
  {
   "cell_type": "markdown",
   "metadata": {},
   "source": []
  },
  {
   "cell_type": "code",
   "execution_count": null,
   "metadata": {},
   "outputs": [],
   "source": []
  },
  {
   "cell_type": "markdown",
   "metadata": {},
   "source": [
    "### __Question 4__"
   ]
  },
  {
   "cell_type": "markdown",
   "metadata": {},
   "source": [
    "Si on choisit m=n on obtient  \n",
    "\n",
    "$$\n",
    "I_n(\\frac{2\\pi k}{n})  = \\frac{1}{2\\pi} \\sum_{h=0}^{n-1} \\hat{\\gamma}_n(h)e^{-2i\\pi \\frac{hk}{n} }\\\\\n",
    "$$\n",
    "\n",
    "Donc  \n",
    "\n",
    "\\begin{align*}\n",
    "\\frac {2\\pi n} n I_n(\\frac{2\\pi k}{n})=  DFT(\\hat{\\gamma},n)(k) \\\\\n",
    "\\hat{\\gamma}_n(k) = IDFT(\\frac {2\\pi n} n I_n(\\frac{2\\pi k}{n}))\n",
    "\\end{align*}\n",
    "et d'après la question 1 on a :  \n",
    "\n",
    "\\begin{align*}\n",
    "\\hat{\\gamma}_n(k) &= IDFT(\\frac 1 n |DFT(X,n)|^2,n)(k) \\\\\n",
    "&=\\frac 1 n IDFT( |DFT(X,n)|^2,n)(k)\n",
    "\n",
    "\\end{align*}\n",
    "\n",
    "On a donc bien pour $\\tilde{m}=n$ : \n",
    "$$\\hat{\\gamma}_n(k) = \\frac{1}{n} IDFT\\left(\\left|DFT(X, \\tilde{m})\\right|^2, \\tilde{m}\\right)(k)$$"
   ]
  },
  {
   "cell_type": "markdown",
   "metadata": {},
   "source": [
    "### Question 5 \n"
   ]
  },
  {
   "cell_type": "code",
   "execution_count": 12,
   "metadata": {},
   "outputs": [],
   "source": [
    "n= np.arange(100,1000,50)\n",
    "wn= 3 \n",
    "Z=[ np.random.normal(0, wn, k) for k in n]\n",
    "lamb=1\n",
    "\n",
    "In= [In2(Z[k],lamb) for k in range(len(n))]"
   ]
  },
  {
   "cell_type": "code",
   "execution_count": 13,
   "metadata": {},
   "outputs": [],
   "source": [
    "def auv(X):\n",
    "    n=len(X)\n",
    "    X_cov= np.zeros(n)\n",
    "    m = np.mean(X)\n",
    "    for h in range(n):\n",
    "        X_cov[h]= (1/n) *sum((X[t+h]-m)*(X[t]-m) for t in range(n-h))\n",
    "    return X_cov\n",
    "\n"
   ]
  },
  {
   "cell_type": "code",
   "execution_count": 14,
   "metadata": {},
   "outputs": [],
   "source": [
    "Variance = [auv(In[k]) for k in range(len(n))]"
   ]
  },
  {
   "cell_type": "code",
   "execution_count": 15,
   "metadata": {},
   "outputs": [
    {
     "data": {
      "text/plain": [
       "[array([ 2.53824879e-04, -4.23041465e-05, -8.46082931e-05]),\n",
       " array([ 1.22739117e-04, -2.04565195e-05, -4.09130391e-05]),\n",
       " array([ 2.86075159e-05, -4.76791932e-06, -9.53583865e-06]),\n",
       " array([ 8.31533708e-07, -1.38588951e-07, -2.77177903e-07]),\n",
       " array([ 2.46841869e-05, -4.11403116e-06, -8.22806231e-06]),\n",
       " array([ 0.00127089, -0.00021181, -0.00042363]),\n",
       " array([ 3.62328652e-04, -6.03881087e-05, -1.20776217e-04]),\n",
       " array([ 0.00111487, -0.00018581, -0.00037162]),\n",
       " array([ 0.00162143, -0.00027024, -0.00054048]),\n",
       " array([ 0.00152724, -0.00025454, -0.00050908]),\n",
       " array([ 3.80067611e-04, -6.33446019e-05, -1.26689204e-04]),\n",
       " array([ 5.30555022e-07, -8.84258370e-08, -1.76851674e-07]),\n",
       " array([ 3.14036062e-04, -5.23393437e-05, -1.04678687e-04]),\n",
       " array([ 8.40810432e-05, -1.40135072e-05, -2.80270144e-05]),\n",
       " array([ 9.36582880e-07, -1.56097147e-07, -3.12194293e-07]),\n",
       " array([ 8.95147264e-05, -1.49191211e-05, -2.98382421e-05]),\n",
       " array([ 8.21927348e-05, -1.36987891e-05, -2.73975783e-05]),\n",
       " array([ 9.50913542e-05, -1.58485590e-05, -3.16971181e-05]),\n",
       " array([ 2.13546225e-04, -3.55910374e-05, -7.11820749e-05]),\n",
       " array([ 2.92625189e-05, -4.87708648e-06, -9.75417297e-06]),\n",
       " array([ 1.08141904e-04, -1.80236507e-05, -3.60473014e-05]),\n",
       " array([ 0.00177977, -0.00029663, -0.00059326]),\n",
       " array([ 2.43901239e-05, -4.06502064e-06, -8.13004129e-06]),\n",
       " array([ 3.30320146e-05, -5.50533576e-06, -1.10106715e-05]),\n",
       " array([ 3.5151894e-05, -5.8586490e-06, -1.1717298e-05]),\n",
       " array([ 5.39681434e-06, -8.99469057e-07, -1.79893811e-06]),\n",
       " array([ 8.24962309e-05, -1.37493718e-05, -2.74987436e-05]),\n",
       " array([ 7.82406929e-08, -1.30401155e-08, -2.60802310e-08]),\n",
       " array([ 8.37442874e-06, -1.39573812e-06, -2.79147625e-06]),\n",
       " array([ 5.26489750e-09, -8.77482916e-10, -1.75496583e-09]),\n",
       " array([ 5.19098623e-05, -8.65164372e-06, -1.73032874e-05]),\n",
       " array([ 2.20103083e-06, -3.66838472e-07, -7.33676945e-07]),\n",
       " array([ 6.50788544e-05, -1.08464757e-05, -2.16929515e-05]),\n",
       " array([ 7.42789431e-05, -1.23798238e-05, -2.47596477e-05]),\n",
       " array([ 6.52623885e-07, -1.08770647e-07, -2.17541295e-07]),\n",
       " array([ 4.10455433e-05, -6.84092389e-06, -1.36818478e-05]),\n",
       " array([ 1.10660274e-05, -1.84433790e-06, -3.68867579e-06]),\n",
       " array([ 4.40878590e-05, -7.34797651e-06, -1.46959530e-05]),\n",
       " array([ 5.67761929e-07, -9.46269882e-08, -1.89253976e-07]),\n",
       " array([ 1.50246278e-04, -2.50410464e-05, -5.00820927e-05]),\n",
       " array([ 6.88531533e-06, -1.14755256e-06, -2.29510511e-06]),\n",
       " array([ 2.14012270e-08, -3.56687116e-09, -7.13374232e-09]),\n",
       " array([ 1.19556338e-06, -1.99260563e-07, -3.98521125e-07]),\n",
       " array([ 8.34614434e-08, -1.39102406e-08, -2.78204811e-08]),\n",
       " array([ 1.05865678e-05, -1.76442796e-06, -3.52885592e-06]),\n",
       " array([ 1.50462193e-05, -2.50770322e-06, -5.01540645e-06]),\n",
       " array([ 3.85765115e-06, -6.42941858e-07, -1.28588372e-06]),\n",
       " array([ 3.99668331e-05, -6.66113885e-06, -1.33222777e-05]),\n",
       " array([ 5.76164971e-05, -9.60274952e-06, -1.92054990e-05]),\n",
       " array([ 2.38741514e-05, -3.97902524e-06, -7.95805047e-06]),\n",
       " array([ 6.69229939e-06, -1.11538323e-06, -2.23076646e-06]),\n",
       " array([ 8.56339265e-06, -1.42723211e-06, -2.85446422e-06]),\n",
       " array([ 1.53108157e-06, -2.55180262e-07, -5.10360523e-07]),\n",
       " array([ 5.61326069e-06, -9.35543448e-07, -1.87108690e-06]),\n",
       " array([ 7.11515437e-06, -1.18585906e-06, -2.37171812e-06]),\n",
       " array([ 4.18559122e-07, -6.97598537e-08, -1.39519707e-07]),\n",
       " array([ 7.59011356e-07, -1.26501893e-07, -2.53003785e-07]),\n",
       " array([ 3.06875685e-06, -5.11459475e-07, -1.02291895e-06]),\n",
       " array([ 6.33728148e-07, -1.05621358e-07, -2.11242716e-07]),\n",
       " array([ 6.71136040e-06, -1.11856007e-06, -2.23712013e-06]),\n",
       " array([ 9.19363733e-07, -1.53227289e-07, -3.06454578e-07]),\n",
       " array([ 4.65492127e-07, -7.75820212e-08, -1.55164042e-07]),\n",
       " array([ 1.08164833e-07, -1.80274721e-08, -3.60549442e-08]),\n",
       " array([ 1.2417594e-06, -2.0695990e-07, -4.1391980e-07]),\n",
       " array([ 3.20413657e-06, -5.34022761e-07, -1.06804552e-06]),\n",
       " array([ 5.01486438e-07, -8.35810731e-08, -1.67162146e-07]),\n",
       " array([ 1.73191825e-06, -2.88653042e-07, -5.77306083e-07]),\n",
       " array([ 5.76563084e-07, -9.60938474e-08, -1.92187695e-07]),\n",
       " array([ 2.55991616e-05, -4.26652693e-06, -8.53305387e-06]),\n",
       " array([ 6.98491376e-06, -1.16415229e-06, -2.32830459e-06]),\n",
       " array([ 2.62066262e-06, -4.36777104e-07, -8.73554207e-07]),\n",
       " array([ 4.53656938e-10, -7.56094896e-11, -1.51218979e-10]),\n",
       " array([ 7.04023306e-07, -1.17337218e-07, -2.34674435e-07]),\n",
       " array([ 1.05211047e-06, -1.75351745e-07, -3.50703490e-07]),\n",
       " array([ 1.33580836e-06, -2.22634727e-07, -4.45269453e-07]),\n",
       " array([ 6.14649566e-06, -1.02441594e-06, -2.04883189e-06]),\n",
       " array([ 3.06774002e-07, -5.11290004e-08, -1.02258001e-07]),\n",
       " array([ 4.65586546e-07, -7.75977576e-08, -1.55195515e-07]),\n",
       " array([ 4.06009849e-06, -6.76683082e-07, -1.35336616e-06]),\n",
       " array([ 9.26059789e-07, -1.54343298e-07, -3.08686596e-07]),\n",
       " array([ 1.58043827e-05, -2.63406378e-06, -5.26812757e-06]),\n",
       " array([ 1.23131246e-07, -2.05218744e-08, -4.10437487e-08]),\n",
       " array([ 6.57067954e-06, -1.09511326e-06, -2.19022651e-06]),\n",
       " array([ 2.54469136e-05, -4.24115227e-06, -8.48230454e-06]),\n",
       " array([ 8.45696114e-06, -1.40949352e-06, -2.81898705e-06]),\n",
       " array([ 3.44315374e-07, -5.73858956e-08, -1.14771791e-07]),\n",
       " array([ 4.48256502e-06, -7.47094169e-07, -1.49418834e-06]),\n",
       " array([ 3.14915949e-06, -5.24859916e-07, -1.04971983e-06]),\n",
       " array([ 3.20291123e-06, -5.33818539e-07, -1.06763708e-06]),\n",
       " array([ 1.53820680e-06, -2.56367801e-07, -5.12735601e-07])]"
      ]
     },
     "execution_count": 15,
     "metadata": {},
     "output_type": "execute_result"
    }
   ],
   "source": [
    "Variance"
   ]
  },
  {
   "cell_type": "code",
   "execution_count": null,
   "metadata": {},
   "outputs": [],
   "source": []
  }
 ],
 "metadata": {
  "kernelspec": {
   "display_name": "Python 3",
   "language": "python",
   "name": "python3"
  },
  "language_info": {
   "codemirror_mode": {
    "name": "ipython",
    "version": 3
   },
   "file_extension": ".py",
   "mimetype": "text/x-python",
   "name": "python",
   "nbconvert_exporter": "python",
   "pygments_lexer": "ipython3",
   "version": "3.9.5"
  },
  "orig_nbformat": 4
 },
 "nbformat": 4,
 "nbformat_minor": 2
}
